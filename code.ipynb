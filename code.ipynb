{
 "cells": [
  {
   "cell_type": "markdown",
   "metadata": {},
   "source": [
    "# Part of Speech Tagging in PyTorch"
   ]
  },
  {
   "cell_type": "markdown",
   "metadata": {},
   "source": [
    "## Part 1: Dataset Exploration"
   ]
  },
  {
   "cell_type": "code",
   "execution_count": 1,
   "metadata": {},
   "outputs": [
    {
     "name": "stderr",
     "output_type": "stream",
     "text": [
      "d:\\Projects\\POS_Tagging\\venv\\lib\\site-packages\\tqdm\\auto.py:21: TqdmWarning: IProgress not found. Please update jupyter and ipywidgets. See https://ipywidgets.readthedocs.io/en/stable/user_install.html\n",
      "  from .autonotebook import tqdm as notebook_tqdm\n"
     ]
    }
   ],
   "source": [
    "from src.data_module.udpos_dataset import UDPOS"
   ]
  },
  {
   "cell_type": "code",
   "execution_count": 2,
   "metadata": {},
   "outputs": [],
   "source": [
    "udpos = UDPOS()"
   ]
  },
  {
   "cell_type": "markdown",
   "metadata": {},
   "source": [
    "### 2.1. Dataset Shape"
   ]
  },
  {
   "cell_type": "markdown",
   "metadata": {},
   "source": [
    "Let's check the number of training examples in each dataset split."
   ]
  },
  {
   "cell_type": "code",
   "execution_count": 3,
   "metadata": {},
   "outputs": [
    {
     "name": "stdout",
     "output_type": "stream",
     "text": [
      "Number of training examples: 12543\n",
      "Number of validation examples: 2002\n",
      "Number of testing examples: 2077\n"
     ]
    }
   ],
   "source": [
    "print(f\"Number of training examples: {len(udpos.train)}\")\n",
    "print(f\"Number of validation examples: {len(udpos.val)}\")\n",
    "print(f\"Number of testing examples: {len(udpos.test)}\")"
   ]
  },
  {
   "cell_type": "markdown",
   "metadata": {},
   "source": [
    "This is what each example looks like. Here,\n",
    "* The `text` field will be used as feature for the POS tagger model.\n",
    "* The `udtags` field will be used as labels."
   ]
  },
  {
   "cell_type": "code",
   "execution_count": 4,
   "metadata": {},
   "outputs": [
    {
     "name": "stdout",
     "output_type": "stream",
     "text": [
      "Text\n",
      " al - zaman : american forces killed shaikh abdullah al - ani , the preacher at the mosque in the town of qaim , near the syrian border .\n",
      "UD Tags\n",
      " ['PROPN', 'PUNCT', 'PROPN', 'PUNCT', 'ADJ', 'NOUN', 'VERB', 'PROPN', 'PROPN', 'PROPN', 'PUNCT', 'PROPN', 'PUNCT', 'DET', 'NOUN', 'ADP', 'DET', 'NOUN', 'ADP', 'DET', 'NOUN', 'ADP', 'PROPN', 'PUNCT', 'ADP', 'DET', 'ADJ', 'NOUN', 'PUNCT']\n"
     ]
    }
   ],
   "source": [
    "example = vars(udpos.train.examples[0])\n",
    "print(\"Text\\n\", ' '.join(example['text']))\n",
    "print(\"UD Tags\\n\", example['udtags'])"
   ]
  },
  {
   "cell_type": "markdown",
   "metadata": {},
   "source": [
    "###  2.2. Analyzing Vocabulary"
   ]
  },
  {
   "cell_type": "markdown",
   "metadata": {},
   "source": [
    "The fields are preprocessed. This means, the tokenization step has been performed. Let's check what the vocabulary size is for each field."
   ]
  },
  {
   "cell_type": "code",
   "execution_count": 5,
   "metadata": {},
   "outputs": [
    {
     "name": "stdout",
     "output_type": "stream",
     "text": [
      "Unique tokens in TEXT vocabulary: 8866\n",
      "Unique tokens in UD_TAG vocabulary: 18\n"
     ]
    }
   ],
   "source": [
    "print(f\"Unique tokens in TEXT vocabulary: {len(udpos.TEXT.vocab)}\")\n",
    "print(f\"Unique tokens in UD_TAG vocabulary: {len(udpos.UD_TAGS.vocab)}\")"
   ]
  },
  {
   "cell_type": "markdown",
   "metadata": {},
   "source": [
    "Let's see what the top 10 most common tokens in `text` are."
   ]
  },
  {
   "cell_type": "code",
   "execution_count": 6,
   "metadata": {},
   "outputs": [
    {
     "name": "stdout",
     "output_type": "stream",
     "text": [
      "Top 10 most common tokens in text are as follows:\n",
      " 1) the   has count  9076\n",
      " 2) .     has count  8640\n",
      " 3) ,     has count  7021\n",
      " 4) to    has count  5137\n",
      " 5) and   has count  5002\n",
      " 6) a     has count  3782\n",
      " 7) of    has count  3622\n",
      " 8) i     has count  3379\n",
      " 9) in    has count  3112\n",
      "10) is    has count  2239\n"
     ]
    }
   ],
   "source": [
    "TOP = 10\n",
    "\n",
    "print(f\"Top {TOP} most common tokens in text are as follows:\")\n",
    "\n",
    "for i, (token, count) in enumerate(udpos.TEXT.vocab.freqs.most_common(TOP)):\n",
    "    print(f\"{i+1:>2}) {token:<5} has count {count:>5}\")"
   ]
  },
  {
   "cell_type": "markdown",
   "metadata": {},
   "source": [
    "Let's check out how many distinct POS tags there are in `udtags`."
   ]
  },
  {
   "cell_type": "code",
   "execution_count": 7,
   "metadata": {},
   "outputs": [
    {
     "name": "stdout",
     "output_type": "stream",
     "text": [
      "There are 18 in total which are as follows\n",
      " 1)   NOUN (34781)\n",
      " 2)  PUNCT (23679)\n",
      " 3)   VERB (23081)\n",
      " 4)   PRON (18577)\n",
      " 5)    ADP (17638)\n",
      " 6)    DET (16285)\n",
      " 7)  PROPN (12946)\n",
      " 8)    ADJ (12477)\n",
      " 9)    AUX (12343)\n",
      "10)    ADV (10548)\n",
      "11)  CCONJ (6707)\n",
      "12)   PART (5567)\n",
      "13)    NUM (3999)\n",
      "14)  SCONJ (3843)\n",
      "15)      X (847)\n",
      "16)   INTJ (688)\n",
      "17)    SYM (599)\n"
     ]
    }
   ],
   "source": [
    "unique_pos_tags = len(udpos.UD_TAGS.vocab)\n",
    "\n",
    "print(f\"There are {unique_pos_tags} in total which are as follows\")\n",
    "\n",
    "for i, (tag, count) in enumerate(udpos.UD_TAGS.vocab.freqs.most_common()):\n",
    "    print(f\"{i+1:>2}) {tag:>6} ({count})\")"
   ]
  },
  {
   "cell_type": "markdown",
   "metadata": {},
   "source": [
    "### 2.3. Batch Iterator"
   ]
  },
  {
   "cell_type": "markdown",
   "metadata": {},
   "source": [
    "Our model will use vectorzied computation to be efficient. For that, we need to iterate over the dataset in batches. "
   ]
  },
  {
   "cell_type": "markdown",
   "metadata": {},
   "source": [
    "Let's see what the iterator looks like."
   ]
  },
  {
   "cell_type": "code",
   "execution_count": 8,
   "metadata": {},
   "outputs": [
    {
     "name": "stdout",
     "output_type": "stream",
     "text": [
      "torch.Size([79, 64]) torch.Size([79, 64])\n"
     ]
    }
   ],
   "source": [
    "for batch in udpos.train_dataloader():\n",
    "    print(batch[0].shape, batch[1].shape)\n",
    "    break"
   ]
  },
  {
   "cell_type": "code",
   "execution_count": 9,
   "metadata": {},
   "outputs": [
    {
     "name": "stdout",
     "output_type": "stream",
     "text": [
      "torch.Size([1, 64]) torch.Size([1, 64])\n"
     ]
    }
   ],
   "source": [
    "for batch in udpos.val_dataloader():\n",
    "    print(batch[0].shape, batch[1].shape)\n",
    "    break"
   ]
  },
  {
   "cell_type": "markdown",
   "metadata": {},
   "source": [
    "Each batch has two objects containing `text` and `udtags`. The shape of both the fields is $x \\times 64$. Here's what this means:\n",
    "\n",
    "* **Number of steps**: x. Meaning, there are x sequential tokens. \n",
    "* **Batches**: 64. Meaning, there are 64 different sequences.\n",
    "\n",
    "Let's look at a breakdown of one row."
   ]
  },
  {
   "cell_type": "code",
   "execution_count": 10,
   "metadata": {},
   "outputs": [
    {
     "name": "stdout",
     "output_type": "stream",
     "text": [
      "Text: lemelpe@nu.com you agel fantastic no \" this voters caroline or thank <unk> why zacarias sounds the thanks i ( last but we <unk> .. ( ---------------------------------------------------------------------- i she in the earl vince and i you fyi <unk> i should the yet the 2 there i the '' they on 100 thank in i i we might game other the next he but good thank\n",
      "Tags: X PRON PROPN ADJ DET PUNCT PRON NOUN X CCONJ VERB X ADV PROPN VERB DET NOUN PRON PUNCT ADJ CCONJ PRON NOUN PUNCT PUNCT PUNCT PRON PRON ADP DET PROPN PROPN CCONJ PRON PRON ADV NOUN PRON AUX DET CCONJ DET X PRON PRON DET PUNCT PRON ADP NUM VERB ADP PRON PRON PRON AUX NOUN ADJ DET ADJ PRON CCONJ ADJ VERB\n"
     ]
    }
   ],
   "source": [
    "for batch in udpos.train_dataloader():\n",
    "    text, tags = batch\n",
    "\n",
    "    print(\"Text:\", \" \".join(udpos.TEXT.vocab.itos[i]\n",
    "                            for i in text[0]))\n",
    "    print(\"Tags:\", \" \".join(udpos.UD_TAGS.vocab.itos[i]\n",
    "                            for i in tags[0]))\n",
    "\n",
    "    break"
   ]
  },
  {
   "cell_type": "markdown",
   "metadata": {},
   "source": [
    "Transposing the filed values, their shape becomes $64 \\times 65$. So each row is now one example sentence. Thus the sentence makes sense when we print it. In the LSTM model, we'll iterate over timesteps and look at a batch of examples."
   ]
  },
  {
   "cell_type": "markdown",
   "metadata": {},
   "source": [
    "## Part 2: Model Creation"
   ]
  },
  {
   "cell_type": "code",
   "execution_count": 11,
   "metadata": {},
   "outputs": [],
   "source": [
    "import torch"
   ]
  },
  {
   "cell_type": "markdown",
   "metadata": {},
   "source": [
    "Let's first specify some hyperparameter values. These will dictate the architectural constraints of our model."
   ]
  },
  {
   "cell_type": "code",
   "execution_count": 12,
   "metadata": {},
   "outputs": [],
   "source": [
    "EMBEDDING_DIM = 100\n",
    "HIDDEN_DIM = 128\n",
    "BATCH_SIZE = 64\n",
    "NUM_LAYERS = 2"
   ]
  },
  {
   "cell_type": "markdown",
   "metadata": {},
   "source": [
    "### 2.1. Base LSTM Model"
   ]
  },
  {
   "cell_type": "code",
   "execution_count": 13,
   "metadata": {},
   "outputs": [],
   "source": [
    "from src.module.lstm import LSTM"
   ]
  },
  {
   "cell_type": "code",
   "execution_count": 14,
   "metadata": {},
   "outputs": [],
   "source": [
    "model = LSTM(num_inputs=EMBEDDING_DIM, num_hiddens=HIDDEN_DIM)"
   ]
  },
  {
   "cell_type": "code",
   "execution_count": 15,
   "metadata": {},
   "outputs": [
    {
     "name": "stdout",
     "output_type": "stream",
     "text": [
      "List of parameters making up the LSTM model\n",
      "W_xf  with shape torch.Size([100, 128])\n",
      "W_hf  with shape torch.Size([128, 128])\n",
      "b_f   with shape torch.Size([128])\n",
      "W_xi  with shape torch.Size([100, 128])\n",
      "W_hi  with shape torch.Size([128, 128])\n",
      "b_i   with shape torch.Size([128])\n",
      "W_xo  with shape torch.Size([100, 128])\n",
      "W_ho  with shape torch.Size([128, 128])\n",
      "b_o   with shape torch.Size([128])\n",
      "W_xc  with shape torch.Size([100, 128])\n",
      "W_hc  with shape torch.Size([128, 128])\n",
      "b_c   with shape torch.Size([128])\n"
     ]
    }
   ],
   "source": [
    "print(\"List of parameters making up the LSTM model\")\n",
    "\n",
    "for name, params in model.named_parameters():\n",
    "    print(f\"{name:<5} with shape {params.shape}\")"
   ]
  },
  {
   "cell_type": "code",
   "execution_count": 16,
   "metadata": {},
   "outputs": [],
   "source": [
    "dummy_inputs = torch.randn((65, BATCH_SIZE, EMBEDDING_DIM))\n",
    "outputs, (H, C) = model(dummy_inputs)"
   ]
  },
  {
   "cell_type": "code",
   "execution_count": 17,
   "metadata": {},
   "outputs": [
    {
     "name": "stdout",
     "output_type": "stream",
     "text": [
      "Number of outputs: 65\n",
      "Shape of Hidden State: torch.Size([64, 128])\n",
      "Shape of Memory Cell State: torch.Size([64, 128])\n"
     ]
    }
   ],
   "source": [
    "print(\"Number of outputs:\", len(outputs))\n",
    "print(\"Shape of Hidden State:\", H.shape)\n",
    "print(\"Shape of Memory Cell State:\", C.shape)"
   ]
  },
  {
   "cell_type": "markdown",
   "metadata": {},
   "source": [
    "Output dimensions match expected values. So our implementation is correct."
   ]
  },
  {
   "cell_type": "markdown",
   "metadata": {},
   "source": [
    "### 2.2. Bidirectional LSTM"
   ]
  },
  {
   "cell_type": "code",
   "execution_count": 18,
   "metadata": {},
   "outputs": [],
   "source": [
    "from src.module.bi_lstm import BiLSTM"
   ]
  },
  {
   "cell_type": "code",
   "execution_count": 19,
   "metadata": {},
   "outputs": [],
   "source": [
    "model = BiLSTM(num_inputs=EMBEDDING_DIM, num_hiddens=HIDDEN_DIM)"
   ]
  },
  {
   "cell_type": "code",
   "execution_count": 20,
   "metadata": {},
   "outputs": [
    {
     "name": "stdout",
     "output_type": "stream",
     "text": [
      "List of parameters making up the LSTM model\n",
      "forward_lstm.W_xf    with shape torch.Size([100, 128])\n",
      "forward_lstm.W_hf    with shape torch.Size([128, 128])\n",
      "forward_lstm.b_f     with shape torch.Size([128])\n",
      "forward_lstm.W_xi    with shape torch.Size([100, 128])\n",
      "forward_lstm.W_hi    with shape torch.Size([128, 128])\n",
      "forward_lstm.b_i     with shape torch.Size([128])\n",
      "forward_lstm.W_xo    with shape torch.Size([100, 128])\n",
      "forward_lstm.W_ho    with shape torch.Size([128, 128])\n",
      "forward_lstm.b_o     with shape torch.Size([128])\n",
      "forward_lstm.W_xc    with shape torch.Size([100, 128])\n",
      "forward_lstm.W_hc    with shape torch.Size([128, 128])\n",
      "forward_lstm.b_c     with shape torch.Size([128])\n",
      "backward_lstm.W_xf   with shape torch.Size([100, 128])\n",
      "backward_lstm.W_hf   with shape torch.Size([128, 128])\n",
      "backward_lstm.b_f    with shape torch.Size([128])\n",
      "backward_lstm.W_xi   with shape torch.Size([100, 128])\n",
      "backward_lstm.W_hi   with shape torch.Size([128, 128])\n",
      "backward_lstm.b_i    with shape torch.Size([128])\n",
      "backward_lstm.W_xo   with shape torch.Size([100, 128])\n",
      "backward_lstm.W_ho   with shape torch.Size([128, 128])\n",
      "backward_lstm.b_o    with shape torch.Size([128])\n",
      "backward_lstm.W_xc   with shape torch.Size([100, 128])\n",
      "backward_lstm.W_hc   with shape torch.Size([128, 128])\n",
      "backward_lstm.b_c    with shape torch.Size([128])\n"
     ]
    }
   ],
   "source": [
    "print(\"List of parameters making up the LSTM model\")\n",
    "\n",
    "for name, params in model.named_parameters():\n",
    "    print(f\"{name:<20} with shape {params.shape}\")"
   ]
  },
  {
   "cell_type": "code",
   "execution_count": 21,
   "metadata": {},
   "outputs": [],
   "source": [
    "outputs, (f_h, b_h) = model(dummy_inputs)"
   ]
  },
  {
   "cell_type": "code",
   "execution_count": 22,
   "metadata": {},
   "outputs": [
    {
     "name": "stdout",
     "output_type": "stream",
     "text": [
      "Outputs shape: 65\n",
      "Shape of Forward Hidden State: torch.Size([64, 128])\n",
      "Shape of Forward Memory Cell: torch.Size([64, 128])\n",
      "Shape of backward Hidden State: torch.Size([64, 128])\n",
      "Shape of backward Memory Cell: torch.Size([64, 128])\n"
     ]
    }
   ],
   "source": [
    "print(\"Outputs shape:\", len(outputs))\n",
    "print(\"Shape of Forward Hidden State:\", f_h[0].shape)\n",
    "print(\"Shape of Forward Memory Cell:\", f_h[1].shape)\n",
    "print(\"Shape of backward Hidden State:\", b_h[0].shape)\n",
    "print(\"Shape of backward Memory Cell:\", b_h[1].shape)"
   ]
  },
  {
   "cell_type": "markdown",
   "metadata": {},
   "source": [
    "Output, hidden state, and memory cell shapes are as expected. So the implementation is correct."
   ]
  },
  {
   "cell_type": "markdown",
   "metadata": {},
   "source": [
    "### 2.3. Deep LSTMs"
   ]
  },
  {
   "cell_type": "code",
   "execution_count": 23,
   "metadata": {},
   "outputs": [],
   "source": [
    "from src.module.deep_lstm import DeepLSTM"
   ]
  },
  {
   "cell_type": "code",
   "execution_count": 24,
   "metadata": {},
   "outputs": [],
   "source": [
    "model = DeepLSTM(num_inputs=EMBEDDING_DIM,\n",
    "                 num_hiddens=HIDDEN_DIM,\n",
    "                 num_layers=NUM_LAYERS,\n",
    "                 bidirectional=False)"
   ]
  },
  {
   "cell_type": "code",
   "execution_count": 25,
   "metadata": {},
   "outputs": [
    {
     "name": "stdout",
     "output_type": "stream",
     "text": [
      "List of parameters making up the LSTM model\n",
      "layers.0.W_xf        with shape torch.Size([100, 128])\n",
      "layers.0.W_hf        with shape torch.Size([128, 128])\n",
      "layers.0.b_f         with shape torch.Size([128])\n",
      "layers.0.W_xi        with shape torch.Size([100, 128])\n",
      "layers.0.W_hi        with shape torch.Size([128, 128])\n",
      "layers.0.b_i         with shape torch.Size([128])\n",
      "layers.0.W_xo        with shape torch.Size([100, 128])\n",
      "layers.0.W_ho        with shape torch.Size([128, 128])\n",
      "layers.0.b_o         with shape torch.Size([128])\n",
      "layers.0.W_xc        with shape torch.Size([100, 128])\n",
      "layers.0.W_hc        with shape torch.Size([128, 128])\n",
      "layers.0.b_c         with shape torch.Size([128])\n",
      "layers.1.W_xf        with shape torch.Size([128, 128])\n",
      "layers.1.W_hf        with shape torch.Size([128, 128])\n",
      "layers.1.b_f         with shape torch.Size([128])\n",
      "layers.1.W_xi        with shape torch.Size([128, 128])\n",
      "layers.1.W_hi        with shape torch.Size([128, 128])\n",
      "layers.1.b_i         with shape torch.Size([128])\n",
      "layers.1.W_xo        with shape torch.Size([128, 128])\n",
      "layers.1.W_ho        with shape torch.Size([128, 128])\n",
      "layers.1.b_o         with shape torch.Size([128])\n",
      "layers.1.W_xc        with shape torch.Size([128, 128])\n",
      "layers.1.W_hc        with shape torch.Size([128, 128])\n",
      "layers.1.b_c         with shape torch.Size([128])\n"
     ]
    }
   ],
   "source": [
    "print(\"List of parameters making up the LSTM model\")\n",
    "\n",
    "for name, params in model.named_parameters():\n",
    "    print(f\"{name:<20} with shape {params.shape}\")"
   ]
  },
  {
   "cell_type": "code",
   "execution_count": 26,
   "metadata": {},
   "outputs": [],
   "source": [
    "outputs, Hs = model(dummy_inputs)"
   ]
  },
  {
   "cell_type": "code",
   "execution_count": 27,
   "metadata": {},
   "outputs": [
    {
     "name": "stdout",
     "output_type": "stream",
     "text": [
      "Output shape: torch.Size([65, 64, 128])\n",
      "Layer 1: Shape of Hidden State: torch.Size([64, 128])\n",
      "Layer 1: Shape of Memory Cell: torch.Size([64, 128])\n",
      "Layer 2: Shape of Hidden State: torch.Size([64, 128])\n",
      "Layer 2: Shape of Memory Cell: torch.Size([64, 128])\n"
     ]
    }
   ],
   "source": [
    "print(\"Output shape:\", outputs.shape)\n",
    "\n",
    "for i, h in enumerate(Hs):\n",
    "    print(f\"Layer {i+1}: Shape of Hidden State:\", h[0].shape)\n",
    "    print(f\"Layer {i+1}: Shape of Memory Cell:\", h[1].shape)"
   ]
  },
  {
   "cell_type": "markdown",
   "metadata": {},
   "source": [
    "### 2.4. Deep Bidrectional LSTM"
   ]
  },
  {
   "cell_type": "code",
   "execution_count": 28,
   "metadata": {},
   "outputs": [],
   "source": [
    "model = DeepLSTM(num_inputs=EMBEDDING_DIM,\n",
    "                 num_hiddens=HIDDEN_DIM,\n",
    "                 num_layers=NUM_LAYERS,\n",
    "                 bidirectional=True)"
   ]
  },
  {
   "cell_type": "code",
   "execution_count": 29,
   "metadata": {},
   "outputs": [
    {
     "name": "stdout",
     "output_type": "stream",
     "text": [
      "List of parameters making up the LSTM model\n",
      "layers.0.forward_lstm.W_xf with shape torch.Size([100, 128])\n",
      "layers.0.forward_lstm.W_hf with shape torch.Size([128, 128])\n",
      "layers.0.forward_lstm.b_f with shape torch.Size([128])\n",
      "layers.0.forward_lstm.W_xi with shape torch.Size([100, 128])\n",
      "layers.0.forward_lstm.W_hi with shape torch.Size([128, 128])\n",
      "layers.0.forward_lstm.b_i with shape torch.Size([128])\n",
      "layers.0.forward_lstm.W_xo with shape torch.Size([100, 128])\n",
      "layers.0.forward_lstm.W_ho with shape torch.Size([128, 128])\n",
      "layers.0.forward_lstm.b_o with shape torch.Size([128])\n",
      "layers.0.forward_lstm.W_xc with shape torch.Size([100, 128])\n",
      "layers.0.forward_lstm.W_hc with shape torch.Size([128, 128])\n",
      "layers.0.forward_lstm.b_c with shape torch.Size([128])\n",
      "layers.0.backward_lstm.W_xf with shape torch.Size([100, 128])\n",
      "layers.0.backward_lstm.W_hf with shape torch.Size([128, 128])\n",
      "layers.0.backward_lstm.b_f with shape torch.Size([128])\n",
      "layers.0.backward_lstm.W_xi with shape torch.Size([100, 128])\n",
      "layers.0.backward_lstm.W_hi with shape torch.Size([128, 128])\n",
      "layers.0.backward_lstm.b_i with shape torch.Size([128])\n",
      "layers.0.backward_lstm.W_xo with shape torch.Size([100, 128])\n",
      "layers.0.backward_lstm.W_ho with shape torch.Size([128, 128])\n",
      "layers.0.backward_lstm.b_o with shape torch.Size([128])\n",
      "layers.0.backward_lstm.W_xc with shape torch.Size([100, 128])\n",
      "layers.0.backward_lstm.W_hc with shape torch.Size([128, 128])\n",
      "layers.0.backward_lstm.b_c with shape torch.Size([128])\n",
      "layers.1.forward_lstm.W_xf with shape torch.Size([256, 128])\n",
      "layers.1.forward_lstm.W_hf with shape torch.Size([128, 128])\n",
      "layers.1.forward_lstm.b_f with shape torch.Size([128])\n",
      "layers.1.forward_lstm.W_xi with shape torch.Size([256, 128])\n",
      "layers.1.forward_lstm.W_hi with shape torch.Size([128, 128])\n",
      "layers.1.forward_lstm.b_i with shape torch.Size([128])\n",
      "layers.1.forward_lstm.W_xo with shape torch.Size([256, 128])\n",
      "layers.1.forward_lstm.W_ho with shape torch.Size([128, 128])\n",
      "layers.1.forward_lstm.b_o with shape torch.Size([128])\n",
      "layers.1.forward_lstm.W_xc with shape torch.Size([256, 128])\n",
      "layers.1.forward_lstm.W_hc with shape torch.Size([128, 128])\n",
      "layers.1.forward_lstm.b_c with shape torch.Size([128])\n",
      "layers.1.backward_lstm.W_xf with shape torch.Size([256, 128])\n",
      "layers.1.backward_lstm.W_hf with shape torch.Size([128, 128])\n",
      "layers.1.backward_lstm.b_f with shape torch.Size([128])\n",
      "layers.1.backward_lstm.W_xi with shape torch.Size([256, 128])\n",
      "layers.1.backward_lstm.W_hi with shape torch.Size([128, 128])\n",
      "layers.1.backward_lstm.b_i with shape torch.Size([128])\n",
      "layers.1.backward_lstm.W_xo with shape torch.Size([256, 128])\n",
      "layers.1.backward_lstm.W_ho with shape torch.Size([128, 128])\n",
      "layers.1.backward_lstm.b_o with shape torch.Size([128])\n",
      "layers.1.backward_lstm.W_xc with shape torch.Size([256, 128])\n",
      "layers.1.backward_lstm.W_hc with shape torch.Size([128, 128])\n",
      "layers.1.backward_lstm.b_c with shape torch.Size([128])\n"
     ]
    }
   ],
   "source": [
    "print(\"List of parameters making up the LSTM model\")\n",
    "\n",
    "for name, params in model.named_parameters():\n",
    "    print(f\"{name:<20} with shape {params.shape}\")"
   ]
  },
  {
   "cell_type": "code",
   "execution_count": 30,
   "metadata": {},
   "outputs": [],
   "source": [
    "outputs, Hs = model(dummy_inputs)"
   ]
  },
  {
   "cell_type": "code",
   "execution_count": 31,
   "metadata": {},
   "outputs": [
    {
     "name": "stdout",
     "output_type": "stream",
     "text": [
      "Output shape: torch.Size([65, 64, 256])\n",
      "Layer 1: Shape of Forward Hidden State: torch.Size([64, 128])\n",
      "Layer 1: Shape of Forward Memory Cell: torch.Size([64, 128])\n",
      "Layer 1: Shape of Forward Hidden State: torch.Size([64, 128])\n",
      "Layer 1: Shape of Forward Memory Cell: torch.Size([64, 128])\n",
      "Layer 2: Shape of Forward Hidden State: torch.Size([64, 128])\n",
      "Layer 2: Shape of Forward Memory Cell: torch.Size([64, 128])\n",
      "Layer 2: Shape of Forward Hidden State: torch.Size([64, 128])\n",
      "Layer 2: Shape of Forward Memory Cell: torch.Size([64, 128])\n"
     ]
    }
   ],
   "source": [
    "print(\"Output shape:\", outputs.shape)\n",
    "\n",
    "for i, h in enumerate(Hs):\n",
    "    print(f\"Layer {i+1}: Shape of Forward Hidden State:\", h[0][0].shape)\n",
    "    print(f\"Layer {i+1}: Shape of Forward Memory Cell:\", h[0][1].shape)\n",
    "    print(f\"Layer {i+1}: Shape of Forward Hidden State:\", h[1][0].shape)\n",
    "    print(f\"Layer {i+1}: Shape of Forward Memory Cell:\", h[1][1].shape)"
   ]
  },
  {
   "cell_type": "markdown",
   "metadata": {},
   "source": [
    "### 2.5. POS Tagger"
   ]
  },
  {
   "cell_type": "code",
   "execution_count": 32,
   "metadata": {},
   "outputs": [],
   "source": [
    "from src.module.pos_tagger import PosTagger"
   ]
  },
  {
   "cell_type": "code",
   "execution_count": 33,
   "metadata": {},
   "outputs": [
    {
     "name": "stderr",
     "output_type": "stream",
     "text": [
      "d:\\Projects\\POS_Tagging\\venv\\lib\\site-packages\\torch\\nn\\modules\\lazy.py:180: UserWarning: Lazy modules are a new feature under heavy development so changes to the API or functionality can happen at any moment.\n",
      "  warnings.warn('Lazy modules are a new feature under heavy development '\n"
     ]
    }
   ],
   "source": [
    "model = PosTagger(num_inputs=len(udpos.TEXT.vocab),\n",
    "                  embedding_dim=100,\n",
    "                  num_hiddens=128,\n",
    "                  num_outputs=len(udpos.UD_TAGS.vocab),\n",
    "                  bidirectional=True,\n",
    "                  num_layers=2,\n",
    "                  padding_idx=udpos.TEXT.vocab[udpos.TEXT.pad_token])"
   ]
  },
  {
   "cell_type": "code",
   "execution_count": 34,
   "metadata": {},
   "outputs": [
    {
     "name": "stdout",
     "output_type": "stream",
     "text": [
      "Features.shape: torch.Size([97, 64])\n",
      "Labels.shape: torch.Size([97, 64])\n",
      "Predictions.shape: torch.Size([97, 64, 18])\n",
      "Loss: 2.9201667308807373\n",
      "Accuracy: 0.014228987507522106\n"
     ]
    },
    {
     "name": "stderr",
     "output_type": "stream",
     "text": [
      "d:\\Projects\\POS_Tagging\\venv\\lib\\site-packages\\torch\\nn\\_reduction.py:42: UserWarning: size_average and reduce args will be deprecated, please use reduction='mean' instead.\n",
      "  warnings.warn(warning.format(ret))\n"
     ]
    }
   ],
   "source": [
    "for batch in udpos.train_dataloader():\n",
    "    X, y = batch\n",
    "    y_hat = model(X)\n",
    "    \n",
    "    print(f\"Features.shape: {X.shape}\")\n",
    "    print(f\"Labels.shape: {y.shape}\")\n",
    "    print(f\"Predictions.shape: {y_hat.shape}\")\n",
    "    \n",
    "    y_hat = y_hat.reshape(-1, y_hat.shape[-1])\n",
    "    y = y.reshape(-1)\n",
    "    \n",
    "    loss = model.loss(y_hat, y)\n",
    "    acc = model.accuracy(y_hat, y)\n",
    "    \n",
    "    print(f\"Loss: {loss.item()}\")\n",
    "    print(f\"Accuracy: {acc.item()}\")\n",
    "    \n",
    "    break"
   ]
  },
  {
   "cell_type": "markdown",
   "metadata": {},
   "source": [
    "## Part 3: Training"
   ]
  },
  {
   "cell_type": "markdown",
   "metadata": {},
   "source": [
    "The training mechanism is basically two steps per epoch.\n",
    "\n",
    "1. **Training step**: Go through the entire training dataset in batches. Feed and train the model using said batches.\n",
    "2. **Validation step**: Check how the model performs after each training step. Don't train the model on this dataset. This is just to judge how well the model does in unknown data."
   ]
  },
  {
   "cell_type": "code",
   "execution_count": 35,
   "metadata": {},
   "outputs": [],
   "source": [
    "MAX_EPOCHS = 10\n",
    "EMBEDDING_DIM = 100\n",
    "NUM_HIDDENS = 128\n",
    "NUM_INPUT = len(udpos.TEXT.vocab)\n",
    "NUM_OUTPUTS = len(udpos.UD_TAGS.vocab)\n",
    "PADDING_IDX = udpos.TEXT.vocab[udpos.TEXT.pad_token]"
   ]
  },
  {
   "cell_type": "code",
   "execution_count": 36,
   "metadata": {},
   "outputs": [],
   "source": [
    "udpos = UDPOS()"
   ]
  },
  {
   "cell_type": "code",
   "execution_count": 37,
   "metadata": {},
   "outputs": [],
   "source": [
    "from src.utils.loops import train_epochs, evaluation_loop"
   ]
  },
  {
   "cell_type": "markdown",
   "metadata": {},
   "source": [
    "### 3.1. Base LSTM\n",
    "\n",
    "First let's see how the base lstm model performs."
   ]
  },
  {
   "cell_type": "code",
   "execution_count": 38,
   "metadata": {},
   "outputs": [],
   "source": [
    "model = PosTagger(num_inputs=NUM_INPUT,\n",
    "                  embedding_dim=EMBEDDING_DIM,\n",
    "                  num_hiddens=NUM_HIDDENS,\n",
    "                  num_outputs=NUM_OUTPUTS,\n",
    "                  bidirectional=False,\n",
    "                  num_layers=1,\n",
    "                  padding_idx=PADDING_IDX)"
   ]
  },
  {
   "cell_type": "code",
   "execution_count": 39,
   "metadata": {},
   "outputs": [
    {
     "name": "stdout",
     "output_type": "stream",
     "text": [
      "Epoch: 01 in (24.81) secs\n",
      "\tTrain Loss: 0.827 | Train Acc: 80.54%\n",
      "\t Val. Loss: 1.630 |  Val. Acc: 49.94%\n",
      "Epoch: 02 in (24.44) secs\n",
      "\tTrain Loss: 0.325 | Train Acc: 90.60%\n",
      "\t Val. Loss: 1.069 |  Val. Acc: 69.33%\n",
      "Epoch: 03 in (24.36) secs\n",
      "\tTrain Loss: 0.205 | Train Acc: 93.77%\n",
      "\t Val. Loss: 0.818 |  Val. Acc: 76.50%\n",
      "Epoch: 04 in (24.31) secs\n",
      "\tTrain Loss: 0.152 | Train Acc: 95.33%\n",
      "\t Val. Loss: 0.670 |  Val. Acc: 81.08%\n",
      "Epoch: 05 in (24.24) secs\n",
      "\tTrain Loss: 0.120 | Train Acc: 96.31%\n",
      "\t Val. Loss: 0.576 |  Val. Acc: 83.48%\n",
      "Epoch: 06 in (23.87) secs\n",
      "\tTrain Loss: 0.101 | Train Acc: 96.89%\n",
      "\t Val. Loss: 0.515 |  Val. Acc: 85.29%\n",
      "Epoch: 07 in (23.80) secs\n",
      "\tTrain Loss: 0.086 | Train Acc: 97.30%\n",
      "\t Val. Loss: 0.469 |  Val. Acc: 86.55%\n",
      "Epoch: 08 in (24.31) secs\n",
      "\tTrain Loss: 0.073 | Train Acc: 97.67%\n",
      "\t Val. Loss: 0.441 |  Val. Acc: 87.13%\n",
      "Epoch: 09 in (24.13) secs\n",
      "\tTrain Loss: 0.067 | Train Acc: 97.88%\n",
      "\t Val. Loss: 0.414 |  Val. Acc: 87.98%\n",
      "Epoch: 10 in (24.07) secs\n",
      "\tTrain Loss: 0.060 | Train Acc: 98.07%\n",
      "\t Val. Loss: 0.403 |  Val. Acc: 88.29%\n"
     ]
    }
   ],
   "source": [
    "losses, accuracies = train_epochs(model, udpos, MAX_EPOCHS)"
   ]
  },
  {
   "cell_type": "code",
   "execution_count": 40,
   "metadata": {},
   "outputs": [],
   "source": [
    "from src.utils.plot import plot_loss_and_accuracy"
   ]
  },
  {
   "cell_type": "code",
   "execution_count": 41,
   "metadata": {},
   "outputs": [
    {
     "data": {
      "image/png": "[encoded data removed]",
      "text/plain": [
       "<Figure size 1200x400 with 2 Axes>"
      ]
     },
     "metadata": {},
     "output_type": "display_data"
    }
   ],
   "source": [
    "plot_loss_and_accuracy(losses, accuracies, [\"Train\", \"Validation\"])"
   ]
  },
  {
   "cell_type": "markdown",
   "metadata": {},
   "source": [
    "##### Train set performance"
   ]
  },
  {
   "cell_type": "code",
   "execution_count": 42,
   "metadata": {},
   "outputs": [
    {
     "name": "stderr",
     "output_type": "stream",
     "text": [
      "d:\\Projects\\POS_Tagging\\venv\\lib\\site-packages\\torch\\nn\\_reduction.py:42: UserWarning: size_average and reduce args will be deprecated, please use reduction='mean' instead.\n",
      "  warnings.warn(warning.format(ret))\n"
     ]
    },
    {
     "name": "stdout",
     "output_type": "stream",
     "text": [
      "Test loss = 0.4292 | Test Accuracy: 87.1244\n"
     ]
    }
   ],
   "source": [
    "loss, acc = evaluation_loop(model, udpos.test_dataloader())\n",
    "print(f\"Test loss = {loss:0.4f} | Test Accuracy: {acc*100:6.4f}\")"
   ]
  },
  {
   "cell_type": "markdown",
   "metadata": {},
   "source": [
    "##### Inference Runtime"
   ]
  },
  {
   "cell_type": "code",
   "execution_count": 43,
   "metadata": {},
   "outputs": [
    {
     "name": "stdout",
     "output_type": "stream",
     "text": [
      "391 ms ± 6 ms per loop (mean ± std. dev. of 7 runs, 10 loops each)\n"
     ]
    }
   ],
   "source": [
    "%%timeit -n 10\n",
    "evaluation_loop(model, udpos.test_dataloader())"
   ]
  },
  {
   "cell_type": "markdown",
   "metadata": {},
   "source": [
    "### 3.2. Bidirectional LSTM"
   ]
  },
  {
   "cell_type": "code",
   "execution_count": 44,
   "metadata": {},
   "outputs": [
    {
     "name": "stderr",
     "output_type": "stream",
     "text": [
      "d:\\Projects\\POS_Tagging\\venv\\lib\\site-packages\\torch\\nn\\modules\\lazy.py:180: UserWarning: Lazy modules are a new feature under heavy development so changes to the API or functionality can happen at any moment.\n",
      "  warnings.warn('Lazy modules are a new feature under heavy development '\n"
     ]
    }
   ],
   "source": [
    "model = PosTagger(num_inputs=NUM_INPUT,\n",
    "                  embedding_dim=EMBEDDING_DIM,\n",
    "                  num_hiddens=NUM_HIDDENS,\n",
    "                  num_outputs=NUM_OUTPUTS,\n",
    "                  bidirectional=True,\n",
    "                  num_layers=1,\n",
    "                  padding_idx=PADDING_IDX)"
   ]
  },
  {
   "cell_type": "code",
   "execution_count": 45,
   "metadata": {},
   "outputs": [
    {
     "name": "stdout",
     "output_type": "stream",
     "text": [
      "Epoch: 01 in (48.16) secs\n",
      "\tTrain Loss: 0.668 | Train Acc: 85.17%\n",
      "\t Val. Loss: 1.124 |  Val. Acc: 69.11%\n",
      "Epoch: 02 in (48.68) secs\n",
      "\tTrain Loss: 0.197 | Train Acc: 94.00%\n",
      "\t Val. Loss: 0.726 |  Val. Acc: 78.89%\n",
      "Epoch: 03 in (48.43) secs\n",
      "\tTrain Loss: 0.129 | Train Acc: 96.04%\n",
      "\t Val. Loss: 0.568 |  Val. Acc: 84.20%\n",
      "Epoch: 04 in (47.60) secs\n",
      "\tTrain Loss: 0.097 | Train Acc: 96.99%\n",
      "\t Val. Loss: 0.477 |  Val. Acc: 86.82%\n",
      "Epoch: 05 in (47.97) secs\n",
      "\tTrain Loss: 0.075 | Train Acc: 97.69%\n",
      "\t Val. Loss: 0.435 |  Val. Acc: 86.24%\n",
      "Epoch: 06 in (47.01) secs\n",
      "\tTrain Loss: 0.063 | Train Acc: 98.10%\n",
      "\t Val. Loss: 0.401 |  Val. Acc: 87.26%\n",
      "Epoch: 07 in (47.73) secs\n",
      "\tTrain Loss: 0.051 | Train Acc: 98.47%\n",
      "\t Val. Loss: 0.370 |  Val. Acc: 88.54%\n",
      "Epoch: 08 in (47.75) secs\n",
      "\tTrain Loss: 0.043 | Train Acc: 98.69%\n",
      "\t Val. Loss: 0.359 |  Val. Acc: 88.31%\n",
      "Epoch: 09 in (48.34) secs\n",
      "\tTrain Loss: 0.037 | Train Acc: 98.88%\n",
      "\t Val. Loss: 0.352 |  Val. Acc: 88.57%\n",
      "Epoch: 10 in (48.76) secs\n",
      "\tTrain Loss: 0.033 | Train Acc: 99.03%\n",
      "\t Val. Loss: 0.341 |  Val. Acc: 89.76%\n"
     ]
    }
   ],
   "source": [
    "bi_losses, bi_accuracies = train_epochs(model, udpos, MAX_EPOCHS)"
   ]
  },
  {
   "cell_type": "code",
   "execution_count": 46,
   "metadata": {},
   "outputs": [],
   "source": [
    "def combine(metrics_1, metrics_2):\n",
    "    return [(a, b, c, d)\n",
    "            for (a, b), (c, d) in zip(metrics_1, metrics_2)]"
   ]
  },
  {
   "cell_type": "code",
   "execution_count": 47,
   "metadata": {},
   "outputs": [],
   "source": [
    "c_losses = combine(losses, bi_losses)\n",
    "c_accuracies = combine(accuracies, bi_accuracies)"
   ]
  },
  {
   "cell_type": "code",
   "execution_count": 48,
   "metadata": {},
   "outputs": [
    {
     "data": {
      "image/png": "[encoded data removed]",
      "text/plain": [
       "<Figure size 1200x400 with 2 Axes>"
      ]
     },
     "metadata": {},
     "output_type": "display_data"
    }
   ],
   "source": [
    "plot_loss_and_accuracy(c_losses, c_accuracies,\n",
    "                      [\"Train_Base\", \"Val_Base\", \n",
    "                       \"Train_BiDir\", \"Val_BiDir\"])"
   ]
  },
  {
   "cell_type": "markdown",
   "metadata": {},
   "source": [
    "##### Test Set Performance"
   ]
  },
  {
   "cell_type": "code",
   "execution_count": 49,
   "metadata": {},
   "outputs": [
    {
     "name": "stdout",
     "output_type": "stream",
     "text": [
      "Test loss = 0.3402 | Test Accuracy: 89.4501\n"
     ]
    }
   ],
   "source": [
    "loss, acc = evaluation_loop(model, udpos.test_dataloader())\n",
    "print(f\"Test loss = {loss:0.4f} | Test Accuracy: {acc*100:6.4f}\")"
   ]
  },
  {
   "cell_type": "markdown",
   "metadata": {},
   "source": [
    "##### Inference Time"
   ]
  },
  {
   "cell_type": "code",
   "execution_count": 50,
   "metadata": {},
   "outputs": [
    {
     "name": "stdout",
     "output_type": "stream",
     "text": [
      "721 ms ± 3.32 ms per loop (mean ± std. dev. of 7 runs, 10 loops each)\n"
     ]
    }
   ],
   "source": [
    "%%timeit -n 10\n",
    "evaluation_loop(model, udpos.test_dataloader())"
   ]
  },
  {
   "cell_type": "markdown",
   "metadata": {},
   "source": [
    "### 3.3. Deep Bidirectional LSTM"
   ]
  },
  {
   "cell_type": "code",
   "execution_count": 51,
   "metadata": {},
   "outputs": [],
   "source": [
    "model = PosTagger(num_inputs=NUM_INPUT,\n",
    "                  embedding_dim=EMBEDDING_DIM,\n",
    "                  num_hiddens=NUM_HIDDENS,\n",
    "                  num_outputs=NUM_OUTPUTS,\n",
    "                  bidirectional=True,\n",
    "                  num_layers=2,\n",
    "                  padding_idx=PADDING_IDX)"
   ]
  },
  {
   "cell_type": "code",
   "execution_count": 52,
   "metadata": {},
   "outputs": [
    {
     "name": "stdout",
     "output_type": "stream",
     "text": [
      "Epoch: 01 in (102.29) secs\n",
      "\tTrain Loss: 0.730 | Train Acc: 80.61%\n",
      "\t Val. Loss: 1.615 |  Val. Acc: 51.73%\n",
      "Epoch: 02 in (101.77) secs\n",
      "\tTrain Loss: 0.255 | Train Acc: 92.06%\n",
      "\t Val. Loss: 0.903 |  Val. Acc: 72.86%\n",
      "Epoch: 03 in (102.91) secs\n",
      "\tTrain Loss: 0.143 | Train Acc: 95.45%\n",
      "\t Val. Loss: 0.712 |  Val. Acc: 78.53%\n",
      "Epoch: 04 in (102.30) secs\n",
      "\tTrain Loss: 0.101 | Train Acc: 96.82%\n",
      "\t Val. Loss: 0.620 |  Val. Acc: 81.28%\n",
      "Epoch: 05 in (102.90) secs\n",
      "\tTrain Loss: 0.075 | Train Acc: 97.70%\n",
      "\t Val. Loss: 0.536 |  Val. Acc: 83.31%\n",
      "Epoch: 06 in (102.87) secs\n",
      "\tTrain Loss: 0.058 | Train Acc: 98.23%\n",
      "\t Val. Loss: 0.492 |  Val. Acc: 84.59%\n",
      "Epoch: 07 in (99.73) secs\n",
      "\tTrain Loss: 0.048 | Train Acc: 98.56%\n",
      "\t Val. Loss: 0.465 |  Val. Acc: 85.79%\n",
      "Epoch: 08 in (102.08) secs\n",
      "\tTrain Loss: 0.039 | Train Acc: 98.85%\n",
      "\t Val. Loss: 0.450 |  Val. Acc: 86.07%\n",
      "Epoch: 09 in (101.66) secs\n",
      "\tTrain Loss: 0.033 | Train Acc: 99.04%\n",
      "\t Val. Loss: 0.438 |  Val. Acc: 86.10%\n",
      "Epoch: 10 in (100.31) secs\n",
      "\tTrain Loss: 0.028 | Train Acc: 99.19%\n",
      "\t Val. Loss: 0.445 |  Val. Acc: 85.99%\n"
     ]
    }
   ],
   "source": [
    "dbi_losses, dbi_accuracies = train_epochs(model, udpos, MAX_EPOCHS)"
   ]
  },
  {
   "cell_type": "code",
   "execution_count": 53,
   "metadata": {},
   "outputs": [],
   "source": [
    "c_losses = combine(losses, dbi_losses)\n",
    "c_accuracies = combine(accuracies, dbi_accuracies)"
   ]
  },
  {
   "cell_type": "code",
   "execution_count": 54,
   "metadata": {},
   "outputs": [
    {
     "data": {
      "image/png": "[encoded data removed]",
      "text/plain": [
       "<Figure size 1200x400 with 2 Axes>"
      ]
     },
     "metadata": {},
     "output_type": "display_data"
    }
   ],
   "source": [
    "plot_loss_and_accuracy(c_losses, c_accuracies,\n",
    "                      [\"Train_Base\", \"Val_Base\", \n",
    "                       \"Train_DBiDir\", \"Val_DBiDir\"])"
   ]
  },
  {
   "cell_type": "markdown",
   "metadata": {},
   "source": [
    "##### Test Set Performance"
   ]
  },
  {
   "cell_type": "code",
   "execution_count": 55,
   "metadata": {},
   "outputs": [
    {
     "name": "stdout",
     "output_type": "stream",
     "text": [
      "Test loss = 0.4676 | Test Accuracy: 85.4816\n"
     ]
    }
   ],
   "source": [
    "loss, acc = evaluation_loop(model, udpos.test_dataloader())\n",
    "print(f\"Test loss = {loss:0.4f} | Test Accuracy: {acc*100:6.4f}\")"
   ]
  },
  {
   "cell_type": "markdown",
   "metadata": {},
   "source": [
    "##### Inference Times"
   ]
  },
  {
   "cell_type": "code",
   "execution_count": 56,
   "metadata": {},
   "outputs": [
    {
     "name": "stdout",
     "output_type": "stream",
     "text": [
      "1.41 s ± 6.94 ms per loop (mean ± std. dev. of 7 runs, 10 loops each)\n"
     ]
    }
   ],
   "source": [
    "%%timeit -n 10\n",
    "evaluation_loop(model, udpos.test_dataloader())"
   ]
  }
 ],
 "metadata": {
  "kernelspec": {
   "display_name": "venv",
   "language": "python",
   "name": "python3"
  },
  "language_info": {
   "codemirror_mode": {
    "name": "ipython",
    "version": 3
   },
   "file_extension": ".py",
   "mimetype": "text/x-python",
   "name": "python",
   "nbconvert_exporter": "python",
   "pygments_lexer": "ipython3",
   "version": "3.7.9"
  }
 },
 "nbformat": 4,
 "nbformat_minor": 2
}
